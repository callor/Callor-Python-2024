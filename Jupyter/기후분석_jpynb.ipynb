{
  "nbformat": 4,
  "nbformat_minor": 0,
  "metadata": {
    "colab": {
      "provenance": [],
      "mount_file_id": "1ZVuVvcP4EcoKc-ayyLbglvQFYXSAUEYE",
      "authorship_tag": "ABX9TyNNdBeOegtW/cWRQ5TGxQ4u",
      "include_colab_link": true
    },
    "kernelspec": {
      "name": "python3",
      "display_name": "Python 3"
    },
    "language_info": {
      "name": "python"
    }
  },
  "cells": [
    {
      "cell_type": "markdown",
      "metadata": {
        "id": "view-in-github",
        "colab_type": "text"
      },
      "source": [
        "<a href=\"https://colab.research.google.com/github/callor/Callor-Python-2024/blob/master/%EA%B8%B0%ED%9B%84%EB%B6%84%EC%84%9D_jpynb.ipynb\" target=\"_parent\"><img src=\"https://colab.research.google.com/assets/colab-badge.svg\" alt=\"Open In Colab\"/></a>"
      ]
    },
    {
      "cell_type": "markdown",
      "source": [
        "<excel 파일 여는 코드>\n",
        "\n",
        "-파일 업로드\n",
        "\n",
        "## 이미 있는 .xlsx 파일 지우기.\n",
        "!rm *.xlsx\n",
        "\n",
        "## 파일 업로드, 여러개 선택 가능.\n",
        "from google.colab import files\n",
        "uploaded = files.upload()"
      ],
      "metadata": {
        "id": "W34BUwG0Q1nT"
      }
    },
    {
      "cell_type": "code",
      "source": [
        "# 판다스 최신 라이브러리를 이용한 엑셀파일 바로 가져오기\n",
        "import pandas as pd\n",
        "df=pd.read_excel(r'/content/drive/MyDrive/광주광역시_기온데이터_1904-2024_20240930134052.xlsx',  engine='openpyxl')\n",
        "\n",
        "\n",
        "# 전체 데이터 확인\n",
        "print(df)\n"
      ],
      "metadata": {
        "id": "9_QXdbwyRBiY",
        "colab": {
          "base_uri": "https://localhost:8080/"
        },
        "outputId": "711b23b9-7838-421e-8818-9c4e179984c0"
      },
      "execution_count": 5,
      "outputs": [
        {
          "output_type": "stream",
          "name": "stdout",
          "text": [
            "       지점번호 지점명         일시  평균기온(℃)  최고기온(℃)    최고기온시각  최저기온(℃)    최저기온시각  \\\n",
            "0       156  광주 1939-05-01     14.0     23.4       NaN      7.2       NaN   \n",
            "1       156  광주 1939-05-02     10.3     19.9       NaN      3.6       NaN   \n",
            "2       156  광주 1939-05-03     12.3     23.5       NaN      1.4       NaN   \n",
            "3       156  광주 1939-05-04     15.9     24.5       NaN      6.6       NaN   \n",
            "4       156  광주 1939-05-05     18.8     25.2       NaN     15.0       NaN   \n",
            "...     ...  ..        ...      ...      ...       ...      ...       ...   \n",
            "31194   156  광주 2024-09-25     23.8     29.5  15:04:00     18.4  06:32:00   \n",
            "31195   156  광주 2024-09-26     24.4     28.2  12:10:00     20.4  06:17:00   \n",
            "31196   156  광주 2024-09-27     23.5     28.7  14:58:00     19.6  06:16:00   \n",
            "31197   156  광주 2024-09-28     23.7     29.3  14:51:00     19.6  06:28:00   \n",
            "31198   156  광주 2024-09-29     23.3     29.1  14:41:00     19.1  06:57:00   \n",
            "\n",
            "         일교차  \n",
            "0      ,16.2  \n",
            "1      ,16.3  \n",
            "2      ,22.1  \n",
            "3      ,17.9  \n",
            "4      ,10.2  \n",
            "...      ...  \n",
            "31194  ,11.1  \n",
            "31195   ,7.8  \n",
            "31196   ,9.1  \n",
            "31197   ,9.7  \n",
            "31198    ,10  \n",
            "\n",
            "[31199 rows x 9 columns]\n"
          ]
        }
      ]
    },
    {
      "cell_type": "code",
      "source": [
        "# 엑셀 헤더명(첫 라인) 칼럼들 가져오기\n",
        "# df.columns 속성은 엑셀파일의 첫 라인을 list 로 가지고 있다\n",
        "header = df.columns\n",
        "print(header)\n",
        "\n",
        "\n",
        "# 최고기온인 날짜, 온도 최저기온인 날짜, 온도 찾기\n",
        "최고기온 = -100\n",
        "최고날짜 = ''\n",
        "최저기온 = 100\n",
        "최저날짜 = ''\n",
        "for index in df['평균기온(℃)'].index:\n",
        "  f기온 = float(df['평균기온(℃)'][index])\n",
        "  if 최고기온 < f기온:\n",
        "    최고기온 = f기온\n",
        "    # 최고기온인 날짜 찾기\n",
        "    최고날짜 = df['일시'][index]\n",
        "\n",
        "\n",
        "  if 최저기온 > f기온:\n",
        "    최저기온 = f기온\n",
        "    최저날짜 = df['일시'][index]\n",
        "\n",
        "print('=' * 100)\n",
        "print('최고기온 : ',str(최고날짜)[:10], 최고기온, ', 최저기온 : ', str(최저날짜)[:10],최저기온)\n",
        "print('=' * 100)\n"
      ],
      "metadata": {
        "colab": {
          "base_uri": "https://localhost:8080/"
        },
        "id": "PFvb_UN9cqcs",
        "outputId": "8ac34df3-61cb-4cc9-e8bc-5b0d2c70b213"
      },
      "execution_count": 24,
      "outputs": [
        {
          "output_type": "stream",
          "name": "stdout",
          "text": [
            "Index(['지점번호', '지점명', '일시', '평균기온(℃)', '최고기온(℃)', '최고기온시각', '최저기온(℃)',\n",
            "       '최저기온시각', '일교차'],\n",
            "      dtype='object')\n",
            "====================================================================================================\n",
            "최고기온 :  2018-08-02 32.0 , 최저기온 :  1943-01-12 -11.0\n",
            "====================================================================================================\n"
          ]
        }
      ]
    },
    {
      "cell_type": "code",
      "source": [
        "최고기온 = -100\n",
        "최고날짜 = ''\n",
        "최저기온 = 100\n",
        "최저날짜 = ''\n",
        "\n",
        "\n",
        "# list 값을 index(정수) 대신 칼럼명을 사용하려면 iterrows() 함수를 사용해야 한다\n",
        "for index, row in df.iterrows(): # Use iterrows() to iterate through the DataFrame\n",
        "  f기온 = float(row['평균기온(℃)']) # Access values using the row variable\n",
        "  if 최고기온 < f기온:\n",
        "    최고기온 = f기온\n",
        "    # 최고기온인 날짜 찾기\n",
        "    최고날짜 = row['일시']\n",
        "\n",
        "\n",
        "  if 최저기온 > f기온:\n",
        "    최저기온 = f기온\n",
        "    최저날짜 = row['일시']\n",
        "\n",
        "\n",
        "print('=' * 100)\n",
        "print('최고기온 : ',str(최고날짜)[:10], 최고기온, ', 최저기온 : ', str(최저날짜)[:10],최저기온)\n",
        "print('=' * 100)"
      ],
      "metadata": {
        "colab": {
          "base_uri": "https://localhost:8080/"
        },
        "id": "dtZRwoxkhdM3",
        "outputId": "f85e1186-8015-4097-b956-0c954ec09280"
      },
      "execution_count": 26,
      "outputs": [
        {
          "output_type": "stream",
          "name": "stdout",
          "text": [
            "====================================================================================================\n",
            "최고기온 :  2018-08-02 32.0 , 최저기온 :  1943-01-12 -11.0\n",
            "====================================================================================================\n"
          ]
        }
      ]
    }
  ]
}