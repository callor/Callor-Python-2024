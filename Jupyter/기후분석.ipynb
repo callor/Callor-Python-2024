{
  "nbformat": 4,
  "nbformat_minor": 0,
  "metadata": {
    "colab": {
      "provenance": [],
      "authorship_tag": "ABX9TyNR8RwWMLsfSZfw53FsyaO1",
      "include_colab_link": true
    },
    "kernelspec": {
      "name": "python3",
      "display_name": "Python 3"
    },
    "language_info": {
      "name": "python"
    }
  },
  "cells": [
    {
      "cell_type": "markdown",
      "metadata": {
        "id": "view-in-github",
        "colab_type": "text"
      },
      "source": [
        "<a href=\"https://colab.research.google.com/github/callor/Callor-Python-2024/blob/master/%EA%B8%B0%ED%9B%84%EB%B6%84%EC%84%9D.ipynb\" target=\"_parent\"><img src=\"https://colab.research.google.com/assets/colab-badge.svg\" alt=\"Open In Colab\"/></a>"
      ]
    },
    {
      "cell_type": "code",
      "execution_count": null,
      "metadata": {
        "id": "rxxwxpoqNOaL"
      },
      "outputs": [],
      "source": []
    },
    {
      "cell_type": "markdown",
      "source": [
        "<excel 파일 여는 코드>\n",
        "\n",
        "-파일 업로드\n",
        "\n",
        "## 이미 있는 .xlsx 파일 지우기.\n",
        "!rm *.xlsx\n",
        "\n",
        "## 파일 업로드, 여러개 선택 가능.\n",
        "from google.colab import files\n",
        "uploaded = files.upload()"
      ],
      "metadata": {
        "id": "W34BUwG0Q1nT"
      }
    },
    {
      "cell_type": "code",
      "source": [
        "import pandas as pd\n",
        "df=pd.read_excel(r'/content/drive/MyDrive/광주광역시_기온데이터_1904-2024_20240930134052.xlsx',  engine='openpyxl')"
      ],
      "metadata": {
        "id": "9_QXdbwyRBiY"
      },
      "execution_count": 4,
      "outputs": []
    },
    {
      "cell_type": "code",
      "source": [
        "print(df)"
      ],
      "metadata": {
        "id": "n40tdQCRSilQ",
        "outputId": "9e61d1c6-5ae8-4470-f18c-c2feedd329e7",
        "colab": {
          "base_uri": "https://localhost:8080/"
        }
      },
      "execution_count": 5,
      "outputs": [
        {
          "output_type": "stream",
          "name": "stdout",
          "text": [
            "       지점번호 지점명         일시  평균기온(℃)  최고기온(℃)    최고기온시각  최저기온(℃)    최저기온시각  \\\n",
            "0       156  광주 1939-05-01     14.0     23.4       NaN      7.2       NaN   \n",
            "1       156  광주 1939-05-02     10.3     19.9       NaN      3.6       NaN   \n",
            "2       156  광주 1939-05-03     12.3     23.5       NaN      1.4       NaN   \n",
            "3       156  광주 1939-05-04     15.9     24.5       NaN      6.6       NaN   \n",
            "4       156  광주 1939-05-05     18.8     25.2       NaN     15.0       NaN   \n",
            "...     ...  ..        ...      ...      ...       ...      ...       ...   \n",
            "31194   156  광주 2024-09-25     23.8     29.5  15:04:00     18.4  06:32:00   \n",
            "31195   156  광주 2024-09-26     24.4     28.2  12:10:00     20.4  06:17:00   \n",
            "31196   156  광주 2024-09-27     23.5     28.7  14:58:00     19.6  06:16:00   \n",
            "31197   156  광주 2024-09-28     23.7     29.3  14:51:00     19.6  06:28:00   \n",
            "31198   156  광주 2024-09-29     23.3     29.1  14:41:00     19.1  06:57:00   \n",
            "\n",
            "         일교차  \n",
            "0      ,16.2  \n",
            "1      ,16.3  \n",
            "2      ,22.1  \n",
            "3      ,17.9  \n",
            "4      ,10.2  \n",
            "...      ...  \n",
            "31194  ,11.1  \n",
            "31195   ,7.8  \n",
            "31196   ,9.1  \n",
            "31197   ,9.7  \n",
            "31198    ,10  \n",
            "\n",
            "[31199 rows x 9 columns]\n"
          ]
        }
      ]
    }
  ]
}