{
  "nbformat": 4,
  "nbformat_minor": 0,
  "metadata": {
    "colab": {
      "provenance": [],
      "authorship_tag": "ABX9TyMA/6numlV0YVQOMSJD+1Zi",
      "include_colab_link": true
    },
    "kernelspec": {
      "name": "python3",
      "display_name": "Python 3"
    },
    "language_info": {
      "name": "python"
    }
  },
  "cells": [
    {
      "cell_type": "markdown",
      "metadata": {
        "id": "view-in-github",
        "colab_type": "text"
      },
      "source": [
        "<a href=\"https://colab.research.google.com/github/callor/Callor-Python-2024/blob/master/%EC%82%BC%EC%84%B1%EC%A0%84%EC%9E%90%EC%A3%BC%EA%B0%80%EB%B6%84%EC%84%9D_2024_09.ipynb\" target=\"_parent\"><img src=\"https://colab.research.google.com/assets/colab-badge.svg\" alt=\"Open In Colab\"/></a>"
      ]
    },
    {
      "cell_type": "markdown",
      "source": [
        "야후 파이낸스 데이터 사용 방법\n",
        "본 실습은 데이터 분석을 위해 미리 다운로드 받아 둔 csv파일을 사용하여 주가 데이터를 분석합니다. 실시간 데이터를 받아 분석하고 싶은 경우, 야후 파이낸스로 부터 주가 데이터를 다운로드 받아 분석할 수 있습니다. pandas-datareader와 yfinance를 라이브러리를 사용하면 야후 파이낸스의 데이터를 쉽게 읽어 올 수 있으므로 두 개의 패키지를 설치합니다.\n",
        "\n",
        "작업 환경에 따라 pip 명령어 또는 conda 명령어를 사용하여 패키지를 설치해주세요.\n",
        "\n",
        "pip install pandas-datareader\n",
        "pip install yfinance\n",
        "conda install pandas-datareader\n",
        "conda install yfinance\n",
        "yfinance를 설치한 이후에, 런타임을 재시작(Restart runtime)합니다.\n",
        "\n",
        "두 개의 라이브러리를 설치한 다음, 아래의 코드를 사용하여 주가 데이터를 불러옵니다.\n",
        "\n",
        "from pandas_datareader import data\n",
        "import yfinance as yfin\n",
        "\n",
        "yfin.pdr_override()\n",
        "\n",
        "# 삼성전자 주가코드: '005930.KS', 2020년 1월 1일부터 2021년 6월 8일까지의 데이터  \n",
        "df = data.get_data_yahoo('005930.KS', start = '2020-01-01', end = '2021-06-08')"
      ],
      "metadata": {
        "id": "63fZRKhHV-NE"
      }
    },
    {
      "cell_type": "code",
      "source": [
        "!pip install pandas-datareader\n",
        "!pip install yfinance"
      ],
      "metadata": {
        "colab": {
          "base_uri": "https://localhost:8080/"
        },
        "id": "6GzvkWmzWFqB",
        "outputId": "42da4393-11a1-4f15-ee9a-fe7f96d8d5cb"
      },
      "execution_count": 8,
      "outputs": [
        {
          "output_type": "stream",
          "name": "stdout",
          "text": [
            "Requirement already satisfied: pandas-datareader in /usr/local/lib/python3.10/dist-packages (0.10.0)\n",
            "Requirement already satisfied: lxml in /usr/local/lib/python3.10/dist-packages (from pandas-datareader) (4.9.4)\n",
            "Requirement already satisfied: pandas>=0.23 in /usr/local/lib/python3.10/dist-packages (from pandas-datareader) (2.1.4)\n",
            "Requirement already satisfied: requests>=2.19.0 in /usr/local/lib/python3.10/dist-packages (from pandas-datareader) (2.32.3)\n",
            "Requirement already satisfied: numpy<2,>=1.22.4 in /usr/local/lib/python3.10/dist-packages (from pandas>=0.23->pandas-datareader) (1.26.4)\n",
            "Requirement already satisfied: python-dateutil>=2.8.2 in /usr/local/lib/python3.10/dist-packages (from pandas>=0.23->pandas-datareader) (2.8.2)\n",
            "Requirement already satisfied: pytz>=2020.1 in /usr/local/lib/python3.10/dist-packages (from pandas>=0.23->pandas-datareader) (2024.2)\n",
            "Requirement already satisfied: tzdata>=2022.1 in /usr/local/lib/python3.10/dist-packages (from pandas>=0.23->pandas-datareader) (2024.1)\n",
            "Requirement already satisfied: charset-normalizer<4,>=2 in /usr/local/lib/python3.10/dist-packages (from requests>=2.19.0->pandas-datareader) (3.3.2)\n",
            "Requirement already satisfied: idna<4,>=2.5 in /usr/local/lib/python3.10/dist-packages (from requests>=2.19.0->pandas-datareader) (3.10)\n",
            "Requirement already satisfied: urllib3<3,>=1.21.1 in /usr/local/lib/python3.10/dist-packages (from requests>=2.19.0->pandas-datareader) (2.2.3)\n",
            "Requirement already satisfied: certifi>=2017.4.17 in /usr/local/lib/python3.10/dist-packages (from requests>=2.19.0->pandas-datareader) (2024.8.30)\n",
            "Requirement already satisfied: six>=1.5 in /usr/local/lib/python3.10/dist-packages (from python-dateutil>=2.8.2->pandas>=0.23->pandas-datareader) (1.16.0)\n",
            "Requirement already satisfied: yfinance in /usr/local/lib/python3.10/dist-packages (0.2.43)\n",
            "Requirement already satisfied: pandas>=1.3.0 in /usr/local/lib/python3.10/dist-packages (from yfinance) (2.1.4)\n",
            "Requirement already satisfied: numpy>=1.16.5 in /usr/local/lib/python3.10/dist-packages (from yfinance) (1.26.4)\n",
            "Requirement already satisfied: requests>=2.31 in /usr/local/lib/python3.10/dist-packages (from yfinance) (2.32.3)\n",
            "Requirement already satisfied: multitasking>=0.0.7 in /usr/local/lib/python3.10/dist-packages (from yfinance) (0.0.11)\n",
            "Requirement already satisfied: lxml>=4.9.1 in /usr/local/lib/python3.10/dist-packages (from yfinance) (4.9.4)\n",
            "Requirement already satisfied: platformdirs>=2.0.0 in /usr/local/lib/python3.10/dist-packages (from yfinance) (4.3.6)\n",
            "Requirement already satisfied: pytz>=2022.5 in /usr/local/lib/python3.10/dist-packages (from yfinance) (2024.2)\n",
            "Requirement already satisfied: frozendict>=2.3.4 in /usr/local/lib/python3.10/dist-packages (from yfinance) (2.4.4)\n",
            "Requirement already satisfied: peewee>=3.16.2 in /usr/local/lib/python3.10/dist-packages (from yfinance) (3.17.6)\n",
            "Requirement already satisfied: beautifulsoup4>=4.11.1 in /usr/local/lib/python3.10/dist-packages (from yfinance) (4.12.3)\n",
            "Requirement already satisfied: html5lib>=1.1 in /usr/local/lib/python3.10/dist-packages (from yfinance) (1.1)\n",
            "Requirement already satisfied: soupsieve>1.2 in /usr/local/lib/python3.10/dist-packages (from beautifulsoup4>=4.11.1->yfinance) (2.6)\n",
            "Requirement already satisfied: six>=1.9 in /usr/local/lib/python3.10/dist-packages (from html5lib>=1.1->yfinance) (1.16.0)\n",
            "Requirement already satisfied: webencodings in /usr/local/lib/python3.10/dist-packages (from html5lib>=1.1->yfinance) (0.5.1)\n",
            "Requirement already satisfied: python-dateutil>=2.8.2 in /usr/local/lib/python3.10/dist-packages (from pandas>=1.3.0->yfinance) (2.8.2)\n",
            "Requirement already satisfied: tzdata>=2022.1 in /usr/local/lib/python3.10/dist-packages (from pandas>=1.3.0->yfinance) (2024.1)\n",
            "Requirement already satisfied: charset-normalizer<4,>=2 in /usr/local/lib/python3.10/dist-packages (from requests>=2.31->yfinance) (3.3.2)\n",
            "Requirement already satisfied: idna<4,>=2.5 in /usr/local/lib/python3.10/dist-packages (from requests>=2.31->yfinance) (3.10)\n",
            "Requirement already satisfied: urllib3<3,>=1.21.1 in /usr/local/lib/python3.10/dist-packages (from requests>=2.31->yfinance) (2.2.3)\n",
            "Requirement already satisfied: certifi>=2017.4.17 in /usr/local/lib/python3.10/dist-packages (from requests>=2.31->yfinance) (2024.8.30)\n"
          ]
        }
      ]
    },
    {
      "cell_type": "markdown",
      "source": [
        "# 사용되지 않는 코드 1\n",
        "\n",
        "from pandas_datareader import data\n",
        "import yfinance as yfin\n",
        "\n",
        "yfin.pdr_override()\n",
        "\n",
        "### 삼성전자 주가코드: '005930.KS', 2020년 1월 1일부터 2021년 6월 8일까지의 데이터  \n",
        "df = data.get_data_yahoo('005930.KS', start = '2020-01-01', end = '2021-06-08')\n",
        "\n",
        "# 사용되지 않는 코드 2\n",
        "\n",
        "!pip install pandas-datareader\n",
        "!pip install yfinance\n",
        "\n",
        "import yfinance as yf\n",
        "from pandas_datareader import data as pdr\n",
        "\n",
        "# yf.pdr_override() # This function is no longer needed\n",
        "\n",
        "stk_hist = pdr.get_data_yahoo('005930.KS',start='2000-01-01')"
      ],
      "metadata": {
        "id": "Xs3wWBBjYcmx"
      }
    },
    {
      "cell_type": "code",
      "source": [
        "# 2010-01-01 부터 2024-09-30 현재 야후파이넨트로 부터 삼성전자 주가데이터 가져오기\n",
        "import yfinance as yf\n",
        "from pandas_datareader import data as pdr\n",
        "import yfinance as yf\n",
        "\n",
        "# Download stock data using yfinance\n",
        "stk_hist = yf.download('005930.KS', start='2010-01-01')\n",
        "\n",
        "# Print the downloaded data\n",
        "print(stk_hist)"
      ],
      "metadata": {
        "colab": {
          "base_uri": "https://localhost:8080/"
        },
        "id": "K1OvzY7nWBBV",
        "outputId": "7e6e38ba-9a7c-4931-cf50-b1606ae8be29"
      },
      "execution_count": 13,
      "outputs": [
        {
          "output_type": "stream",
          "name": "stderr",
          "text": [
            "\r[*********************100%***********************]  1 of 1 completed"
          ]
        },
        {
          "output_type": "stream",
          "name": "stdout",
          "text": [
            "               Open     High      Low    Close     Adj Close    Volume\n",
            "Date                                                                  \n",
            "2010-01-04  16060.0  16180.0  16000.0  16180.0  12274.591797  11950800\n",
            "2010-01-05  16520.0  16580.0  16300.0  16440.0  12471.834961  27925850\n",
            "2010-01-06  16580.0  16820.0  16520.0  16820.0  12760.115234  22948850\n",
            "2010-01-07  16820.0  16820.0  16260.0  16260.0  12335.284180  22107950\n",
            "2010-01-08  16400.0  16420.0  16120.0  16420.0  12456.661133  14777550\n",
            "...             ...      ...      ...      ...           ...       ...\n",
            "2024-09-24  62800.0  63400.0  62400.0  63200.0  63200.000000  26957500\n",
            "2024-09-25  63800.0  64200.0  62200.0  62200.0  62200.000000  28652438\n",
            "2024-09-26  63900.0  64900.0  63700.0  64700.0  64700.000000  37566015\n",
            "2024-09-27  64700.0  65400.0  64200.0  64200.0  64200.000000  28433030\n",
            "2024-09-30  64200.0  64300.0  62100.0  62200.0  62200.000000  20387934\n",
            "\n",
            "[3633 rows x 6 columns]\n"
          ]
        },
        {
          "output_type": "stream",
          "name": "stderr",
          "text": [
            "\n"
          ]
        }
      ]
    }
  ]
}