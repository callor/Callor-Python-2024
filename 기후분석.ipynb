{
  "nbformat": 4,
  "nbformat_minor": 0,
  "metadata": {
    "colab": {
      "provenance": [],
      "authorship_tag": "ABX9TyMDzpUV6Pqx2DjFzvy4For9",
      "include_colab_link": true
    },
    "kernelspec": {
      "name": "python3",
      "display_name": "Python 3"
    },
    "language_info": {
      "name": "python"
    }
  },
  "cells": [
    {
      "cell_type": "markdown",
      "metadata": {
        "id": "view-in-github",
        "colab_type": "text"
      },
      "source": [
        "<a href=\"https://colab.research.google.com/github/callor/Callor-Python-2024/blob/master/%EA%B8%B0%ED%9B%84%EB%B6%84%EC%84%9D.ipynb\" target=\"_parent\"><img src=\"https://colab.research.google.com/assets/colab-badge.svg\" alt=\"Open In Colab\"/></a>"
      ]
    },
    {
      "cell_type": "code",
      "execution_count": null,
      "metadata": {
        "id": "rxxwxpoqNOaL"
      },
      "outputs": [],
      "source": []
    },
    {
      "cell_type": "markdown",
      "source": [
        "<excel 파일 여는 코드>\n",
        "\n",
        "-파일 업로드\n",
        "\n",
        "## 이미 있는 .xlsx 파일 지우기.\n",
        "!rm *.xlsx\n",
        "\n",
        "## 파일 업로드, 여러개 선택 가능.\n",
        "from google.colab import files\n",
        "uploaded = files.upload()"
      ],
      "metadata": {
        "id": "W34BUwG0Q1nT"
      }
    },
    {
      "cell_type": "code",
      "source": [
        "import pandas as pd\n",
        "df=pd.read_excel(r'/content/광주광역시_기온데이터_1904-2024_20240930134052.xls')"
      ],
      "metadata": {
        "id": "9_QXdbwyRBiY"
      },
      "execution_count": null,
      "outputs": []
    }
  ]
}